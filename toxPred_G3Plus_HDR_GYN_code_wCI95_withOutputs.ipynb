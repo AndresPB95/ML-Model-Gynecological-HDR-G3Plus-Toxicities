{
 "cells": [
  {
   "cell_type": "markdown",
   "id": "201e6a12-d294-4e3d-a4dc-f14e6ab5ec5c",
   "metadata": {},
   "source": [
    "# Initialization"
   ]
  },
  {
   "cell_type": "code",
   "execution_count": 1,
   "id": "c81221ee",
   "metadata": {},
   "outputs": [],
   "source": [
    "%matplotlib inline\n",
    "import matplotlib.pyplot as plt\n",
    "import pandas as pd\n",
    "import numpy as np\n",
    "import warnings\n",
    "import os, sys, time\n",
    "import joblib\n",
    "\n",
    "from sklearn.model_selection import StratifiedShuffleSplit, cross_val_score\n",
    "from sklearn.model_selection import train_test_split, GridSearchCV\n",
    "from sklearn.impute import KNNImputer\n",
    "from sklearn.preprocessing import StandardScaler, MinMaxScaler, RobustScaler\n",
    "from imblearn.over_sampling import SMOTE, ADASYN, BorderlineSMOTE, SVMSMOTE\n",
    "from mlxtend.feature_selection import SequentialFeatureSelector as SFS\n",
    "\n",
    "from sklearn.linear_model import LogisticRegression\n",
    "from sklearn.ensemble import RandomForestClassifier\n",
    "from sklearn.neighbors import KNeighborsClassifier\n",
    "from sklearn.svm import SVC\n",
    "from sklearn.naive_bayes import GaussianNB\n",
    "from sklearn.neural_network import MLPClassifier\n",
    "\n",
    "from sklearn.pipeline import Pipeline\n",
    "from sklearn.metrics import confusion_matrix, ConfusionMatrixDisplay\n",
    "from sklearn.metrics import accuracy_score, precision_score, recall_score, f1_score\n",
    "from sklearn.metrics import precision_recall_curve, roc_curve, auc, matthews_corrcoef\n",
    "\n",
    "import scipy.stats\n",
    "from warnings import simplefilter\n",
    "from category_encoders import TargetEncoder\n",
    "\n",
    "# Ignore warnings\n",
    "if not sys.warnoptions:\n",
    "    warnings.simplefilter(\"ignore\")\n",
    "    os.environ[\"PYTHONWARNINGS\"] = \"ignore\" \n",
    "\n",
    "simplefilter(action='ignore', category=FutureWarning)"
   ]
  },
  {
   "cell_type": "code",
   "execution_count": 2,
   "id": "216786e8-2cce-4014-9647-3a7b6ec6f1b5",
   "metadata": {},
   "outputs": [],
   "source": [
    "# Specify database file location\n",
    "#db_filename = 'filepath'\n",
    "\n",
    "# Determine file location for objects to be saved\n",
    "#cat_imputer_filename = 'filepath'\n",
    "#num_imputer_filename = 'filepath'\n",
    "#scaler_filename = 'filepath'\n",
    "#encoder_filename = 'filepath'\n",
    "\n",
    "# Specify database file location\n",
    "db_filename = 'C:/Users/bonif/OneDrive/Documentos/Final DB HDR/Final/UseThis/Grade3ModelDBFinalOriginalPublish2.xlsx'\n",
    "\n",
    "# Determine file location for objects to be saved\n",
    "cat_imputer_filename = 'C:/Users/bonif/OneDrive/Documentos/Final DB HDR/Final/UseThis/categorical'\n",
    "num_imputer_filename = 'C:/Users/bonif/OneDrive/Documentos/Final DB HDR/Final/UseThis/numerical'\n",
    "scaler_filename = 'C:/Users/bonif/OneDrive/Documentos/Final DB HDR/Final/UseThis/scaler'\n",
    "encoder_filename = 'C:/Users/bonif/OneDrive/Documentos/Final DB HDR/Final/UseThis/encoder'"
   ]
  },
  {
   "cell_type": "code",
   "execution_count": 3,
   "id": "bff349f9-32d2-463f-bced-e0f330dd1e58",
   "metadata": {},
   "outputs": [],
   "source": [
    "# Read the excel file\n",
    "df = pd.read_excel(db_filename)"
   ]
  },
  {
   "cell_type": "code",
   "execution_count": 4,
   "id": "0cd42679",
   "metadata": {},
   "outputs": [],
   "source": [
    "# Features are going to be the X variables and the Toxicity Labels the Y variable\n",
    "X_pre = df.iloc[:,:-1]\n",
    "y = df.loc[:, ['Target']]"
   ]
  },
  {
   "cell_type": "code",
   "execution_count": 5,
   "id": "4d10c106",
   "metadata": {},
   "outputs": [
    {
     "data": {
      "text/plain": [
       "['Chemotherapy',\n",
       " 'BMI',\n",
       " 'Charlson',\n",
       " 'KPS',\n",
       " 'Ethnicity',\n",
       " 'AgeAtCompletion',\n",
       " 'TypeOfBoost',\n",
       " 'TreatmentDays',\n",
       " 'Applicator',\n",
       " 'MRI',\n",
       " 'V100',\n",
       " 'D50',\n",
       " 'D90',\n",
       " 'D98',\n",
       " 'D0.1Bladder',\n",
       " 'D1Bladder',\n",
       " 'D2Bladder',\n",
       " 'D0.1SmallBowel',\n",
       " 'D1SmallBowel',\n",
       " 'D2SmallBowel',\n",
       " 'D0.1Sigmoid',\n",
       " 'D1Sigmoid',\n",
       " 'D2Sigmoid',\n",
       " 'D0.1Rectum',\n",
       " 'D1Rectum',\n",
       " 'D2Rectum',\n",
       " 'TumorSite',\n",
       " 'Stage',\n",
       " 'Histology',\n",
       " 'Size',\n",
       " 'HRCTVolume',\n",
       " 'FollowUp']"
      ]
     },
     "execution_count": 5,
     "metadata": {},
     "output_type": "execute_result"
    }
   ],
   "source": [
    "# Print Final DB Columns\n",
    "X_pre.columns.tolist()"
   ]
  },
  {
   "cell_type": "code",
   "execution_count": 6,
   "id": "1945e600",
   "metadata": {},
   "outputs": [],
   "source": [
    "# Encoding values\n",
    "encoding_dict = {\n",
    "    'Chemotherapy': {'N': 0, 'Y': 1},\n",
    "    'Charlson': {'Low': 0, 'Medium': 1, 'High': 2, 'VeryHigh': 3},\n",
    "    'KPS': {'Good': 0, 'Normal': 1, 'Bad': 2},\n",
    "    'Ethnicity': {'C': 0, 'NC': 1},\n",
    "    'TypeOfBoost': {'DidNotGet': 0, 'SIB': 1, 'Sequential': 2},\n",
    "    'Applicator': {'Syed': 0, 'TO': 1},\n",
    "    'MRI': {'N': 0, 'Y': 1},\n",
    "    'TumorSite': {'Other': 0, 'Endometrium': 1, 'Cervix': 2},\n",
    "    'Stage': {'I': 0, 'II': 1, 'III': 2, 'IV': 3},\n",
    "    'Histology': {'SCC': 0, 'Non - SCC': 1},\n",
    "}\n",
    "\n",
    "categorical_columns = [\n",
    "    'Chemotherapy', 'Charlson', 'KPS', 'Ethnicity',\n",
    "    'TypeOfBoost', 'Applicator', 'MRI', 'TumorSite',\n",
    "    'Stage', 'Histology'\n",
    "]\n",
    "\n",
    "# Determine the categorical column indexes to be used later\n",
    "categorical_columns_index = list(map( lambda n: X_pre.columns.get_loc(n), categorical_columns) )\n",
    "\n",
    "# Apply the encoding dictionary to the respective columns\n",
    "for col, mapping in encoding_dict.items():\n",
    "    X_pre[col] = X_pre[col].map(mapping)"
   ]
  },
  {
   "cell_type": "markdown",
   "id": "f63e5f50-668e-4b52-b806-9babf99c5ebd",
   "metadata": {},
   "source": [
    "# Train/Test split"
   ]
  },
  {
   "cell_type": "code",
   "execution_count": 7,
   "id": "bca3d359",
   "metadata": {},
   "outputs": [],
   "source": [
    "# Perform the train-test split\n",
    "X_train, X_test, y_train, y_test = train_test_split(X_pre, y, random_state = 0, stratify = y, train_size = 0.75)"
   ]
  },
  {
   "cell_type": "code",
   "execution_count": 8,
   "id": "0a138d45-da1a-4bdf-ac56-765e6f819133",
   "metadata": {},
   "outputs": [
    {
     "name": "stdout",
     "output_type": "stream",
     "text": [
      "Training set size -> 174\n",
      "Testing set size -> 59\n"
     ]
    }
   ],
   "source": [
    "print(f'Training set size -> {X_train.shape[0]}')\n",
    "print(f'Testing set size -> {X_test.shape[0]}')"
   ]
  },
  {
   "cell_type": "code",
   "execution_count": 9,
   "id": "87a75e79-2f65-42b0-93fc-277f6da31963",
   "metadata": {},
   "outputs": [
    {
     "name": "stdout",
     "output_type": "stream",
     "text": [
      "Number of NEGATIVE cases in TRAIN -> 132\n",
      "Number of POSITIVE cases in TRAIN -> 42\n",
      "Ratio of P:N -> 0.3181818181818182\n"
     ]
    }
   ],
   "source": [
    "print(f'Number of NEGATIVE cases in TRAIN -> {y_train.value_counts()[0]}')\n",
    "print(f'Number of POSITIVE cases in TRAIN -> {y_train.value_counts()[1]}')\n",
    "print(f'Ratio of P:N -> {y_train.value_counts()[1]/y_train.value_counts()[0]}')"
   ]
  },
  {
   "cell_type": "code",
   "execution_count": 10,
   "id": "8d181068-bb12-49c9-9669-fac42c15c788",
   "metadata": {},
   "outputs": [
    {
     "name": "stdout",
     "output_type": "stream",
     "text": [
      "Number of NEGATIVE cases in TEST -> 45\n",
      "Number of POSITIVE cases in TEST -> 14\n",
      "Ratio of P:N -> 0.3111111111111111\n"
     ]
    }
   ],
   "source": [
    "print(f'Number of NEGATIVE cases in TEST -> {y_test.value_counts()[0]}')\n",
    "print(f'Number of POSITIVE cases in TEST -> {y_test.value_counts()[1]}')\n",
    "print(f'Ratio of P:N -> {y_test.value_counts()[1]/y_test.value_counts()[0]}')"
   ]
  },
  {
   "cell_type": "code",
   "execution_count": 11,
   "id": "cc019726-644e-45e0-a417-fd9e47573674",
   "metadata": {},
   "outputs": [],
   "source": [
    "# Define the CrossValidation algorithm and parameters \n",
    "sss = StratifiedShuffleSplit(n_splits = 10, test_size = 0.2, random_state = 42)"
   ]
  },
  {
   "cell_type": "markdown",
   "id": "cc874bc5-ffb3-4a3e-ae93-09a9cf8bb40f",
   "metadata": {},
   "source": [
    "# Missing Data Imputing"
   ]
  },
  {
   "cell_type": "code",
   "execution_count": 12,
   "id": "8960c533-d6f8-49d1-baed-f24baecd4d06",
   "metadata": {},
   "outputs": [
    {
     "name": "stdout",
     "output_type": "stream",
     "text": [
      "\u001b[1mMissing Values for Each Column \n",
      "\u001b[0m\n",
      "Chemotherapy        0\n",
      "BMI                 0\n",
      "Charlson            0\n",
      "KPS                 1\n",
      "Ethnicity           0\n",
      "AgeAtCompletion     0\n",
      "TypeOfBoost         1\n",
      "TreatmentDays      24\n",
      "Applicator          0\n",
      "MRI                 0\n",
      "V100                3\n",
      "D50                 4\n",
      "D90                 4\n",
      "D98                 4\n",
      "D0.1Bladder         6\n",
      "D1Bladder           6\n",
      "D2Bladder           6\n",
      "D0.1SmallBowel      7\n",
      "D1SmallBowel        7\n",
      "D2SmallBowel        7\n",
      "D0.1Sigmoid         5\n",
      "D1Sigmoid           5\n",
      "D2Sigmoid           5\n",
      "D0.1Rectum          4\n",
      "D1Rectum            4\n",
      "D2Rectum            4\n",
      "TumorSite           0\n",
      "Stage               0\n",
      "Histology           0\n",
      "Size               27\n",
      "HRCTVolume          0\n",
      "FollowUp            0\n",
      "dtype: int64\n"
     ]
    }
   ],
   "source": [
    "# Counting NaN values in all columns before imputation\n",
    "nan_count = X_train.isna().sum()\n",
    "\n",
    "print(\"\\033[1m\" + \"Missing Values for Each Column \\n\" + \"\\033[0m\")\n",
    "print(nan_count)"
   ]
  },
  {
   "cell_type": "code",
   "execution_count": 13,
   "id": "49d35bf2",
   "metadata": {},
   "outputs": [
    {
     "data": {
      "text/plain": [
       "['C:/Users/bonif/OneDrive/Documentos/Final DB HDR/Final/UseThis/categorical']"
      ]
     },
     "execution_count": 13,
     "metadata": {},
     "output_type": "execute_result"
    }
   ],
   "source": [
    "# Initialize the KNNImputer with 1 neighbor for imputation of categorical columns\n",
    "imputer_categorical = KNNImputer(n_neighbors = 1) \n",
    "\n",
    "# Impute missing values in the categorical columns for TRAIN data\n",
    "X_train[categorical_columns] = imputer_categorical.fit_transform(X_train)[ : , categorical_columns_index]\n",
    "\n",
    "# Save the fitted categorical imputer\n",
    "joblib.dump(imputer_categorical, cat_imputer_filename)"
   ]
  },
  {
   "cell_type": "code",
   "execution_count": 14,
   "id": "d40e6ea3",
   "metadata": {},
   "outputs": [
    {
     "data": {
      "text/plain": [
       "['C:/Users/bonif/OneDrive/Documentos/Final DB HDR/Final/UseThis/numerical']"
      ]
     },
     "execution_count": 14,
     "metadata": {},
     "output_type": "execute_result"
    }
   ],
   "source": [
    "# Initialize the KNNImputer with 5 neighbors for imputation of numerical columns\n",
    "imputer_numerical = KNNImputer(n_neighbors = 5)\n",
    "\n",
    "# Impute missing values in the numerical columns for TRAIN data\n",
    "X_imputed_train = imputer_numerical.fit_transform(X_train)\n",
    "X_imputed_train_df = pd.DataFrame(X_imputed_train, columns = X_train.columns)\n",
    "\n",
    "# Save the fitted numerical imputer\n",
    "joblib.dump(imputer_numerical, num_imputer_filename)"
   ]
  },
  {
   "cell_type": "code",
   "execution_count": 15,
   "id": "2217667b",
   "metadata": {},
   "outputs": [],
   "source": [
    "# Set the index of X_train to match the index of y_train\n",
    "X_imputed_train_df.index = y_train.index"
   ]
  },
  {
   "cell_type": "code",
   "execution_count": 16,
   "id": "33b43985-64d8-430d-985d-dc729f77d111",
   "metadata": {},
   "outputs": [
    {
     "name": "stdout",
     "output_type": "stream",
     "text": [
      "\u001b[1mMissing Values for Each Column \n",
      "\u001b[0m\n",
      "Chemotherapy       0\n",
      "BMI                0\n",
      "Charlson           0\n",
      "KPS                0\n",
      "Ethnicity          0\n",
      "AgeAtCompletion    0\n",
      "TypeOfBoost        0\n",
      "TreatmentDays      0\n",
      "Applicator         0\n",
      "MRI                0\n",
      "V100               0\n",
      "D50                0\n",
      "D90                0\n",
      "D98                0\n",
      "D0.1Bladder        0\n",
      "D1Bladder          0\n",
      "D2Bladder          0\n",
      "D0.1SmallBowel     0\n",
      "D1SmallBowel       0\n",
      "D2SmallBowel       0\n",
      "D0.1Sigmoid        0\n",
      "D1Sigmoid          0\n",
      "D2Sigmoid          0\n",
      "D0.1Rectum         0\n",
      "D1Rectum           0\n",
      "D2Rectum           0\n",
      "TumorSite          0\n",
      "Stage              0\n",
      "Histology          0\n",
      "Size               0\n",
      "HRCTVolume         0\n",
      "FollowUp           0\n",
      "dtype: int64\n"
     ]
    }
   ],
   "source": [
    "# Counting NaN values in all columns after imputation for verification\n",
    "nan_count = X_imputed_train_df.isna().sum()\n",
    "\n",
    "print(\"\\033[1m\" + \"Missing Values for Each Column \\n\" + \"\\033[0m\")\n",
    "print(nan_count)"
   ]
  },
  {
   "cell_type": "markdown",
   "id": "e71b9b2d-8bf9-42e4-8a27-4fd8a6202725",
   "metadata": {},
   "source": [
    "# Unbalanced Assessment Copies"
   ]
  },
  {
   "cell_type": "code",
   "execution_count": 17,
   "id": "e5d0aa7c",
   "metadata": {},
   "outputs": [],
   "source": [
    "# Create unbalanced copies for final model assessment\n",
    "X_imputed_train_final = X_imputed_train_df.copy(deep = True)\n",
    "y_train_final = np.ravel(y_train.copy(deep = True))"
   ]
  },
  {
   "cell_type": "markdown",
   "id": "acd515f7-769c-4fc1-bd0c-56fc2e1afff4",
   "metadata": {},
   "source": [
    "# Data Balancing"
   ]
  },
  {
   "cell_type": "code",
   "execution_count": 18,
   "id": "bfbbd73e-2af0-4ee1-b26b-8823f3186a33",
   "metadata": {},
   "outputs": [
    {
     "name": "stdout",
     "output_type": "stream",
     "text": [
      "Number of NEGATIVE cases in TRAIN -> 132\n",
      "Number of POSITIVE cases in TRAIN -> 42\n",
      "Ratio of P:N -> 0.3181818181818182\n"
     ]
    }
   ],
   "source": [
    "# Preview of positive and negative cases in Training set\n",
    "print(f'Number of NEGATIVE cases in TRAIN -> {y_train.value_counts()[0]}')\n",
    "print(f'Number of POSITIVE cases in TRAIN -> {y_train.value_counts()[1]}')\n",
    "print(f'Ratio of P:N -> {y_train.value_counts()[1]/y_train.value_counts()[0]}')"
   ]
  },
  {
   "cell_type": "code",
   "execution_count": 19,
   "id": "137a7f3e",
   "metadata": {},
   "outputs": [
    {
     "name": "stdout",
     "output_type": "stream",
     "text": [
      "Number of NEGATIVE cases in TRAIN -> 132\n",
      "Number of POSITIVE cases in TRAIN -> 132\n",
      "Ratio of P:N -> 1.0\n"
     ]
    }
   ],
   "source": [
    "# Balancing the classes for the training dataframe using SVMSMOTE\n",
    "X_imputed_train_df, y_train = SVMSMOTE(sampling_strategy = 1, random_state = 42).fit_resample(X_imputed_train_df, y_train)\n",
    "\n",
    "# Print new numbers for Training set\n",
    "print(f'Number of NEGATIVE cases in TRAIN -> {y_train.value_counts()[0]}')\n",
    "print(f'Number of POSITIVE cases in TRAIN -> {y_train.value_counts()[1]}')\n",
    "print(f'Ratio of P:N -> {y_train.value_counts()[1]/y_train.value_counts()[0]}')"
   ]
  },
  {
   "cell_type": "code",
   "execution_count": 20,
   "id": "e783cfd5-66b3-46d7-9028-e88ddfbddcbd",
   "metadata": {},
   "outputs": [
    {
     "data": {
      "image/png": "[encoded data removed]",
      "text/plain": [
       "<Figure size 640x480 with 1 Axes>"
      ]
     },
     "metadata": {},
     "output_type": "display_data"
    }
   ],
   "source": [
    "# Visualization of balanced data frequency\n",
    "plot_values = y_train.value_counts(ascending = False)\n",
    "fig, ax = plt.subplots()\n",
    "\n",
    "ax.bar(x = ['0', '1'], height = plot_values.array)\n",
    "\n",
    "plt.title('Balanced Distribution of Targets in Train Data using Synthetic Data\\n')\n",
    "plt.xlabel('Toxicity Class')\n",
    "plt.ylabel('n')\n",
    "plt.show()"
   ]
  },
  {
   "cell_type": "markdown",
   "id": "a1403841-0196-458d-9247-6d3230839761",
   "metadata": {},
   "source": [
    "# StandardScaler and TargetEncoder"
   ]
  },
  {
   "cell_type": "code",
   "execution_count": 21,
   "id": "759690bd",
   "metadata": {},
   "outputs": [
    {
     "data": {
      "text/plain": [
       "['C:/Users/bonif/OneDrive/Documentos/Final DB HDR/Final/UseThis/scaler']"
      ]
     },
     "execution_count": 21,
     "metadata": {},
     "output_type": "execute_result"
    }
   ],
   "source": [
    "# Pre-processing of the numerical features using a StandardScaler\n",
    "scaler = StandardScaler()\n",
    "\n",
    "numerical_columns = ['BMI', 'AgeAtCompletion', 'TreatmentDays', 'V100', 'D50', 'D90', 'D98', 'D0.1Bladder', 'D1Bladder',\n",
    "    'D2Bladder', 'D0.1SmallBowel', 'D1SmallBowel', 'D2SmallBowel',\n",
    "    'D0.1Sigmoid', 'D1Sigmoid', 'D2Sigmoid','D0.1Rectum', 'D1Rectum', 'D2Rectum',\n",
    "    'Size', 'HRCTVolume', 'FollowUp']\n",
    "\n",
    "categorical_columns = ['Chemotherapy', 'Charlson', 'KPS', 'Ethnicity', 'TypeOfBoost', 'Applicator', 'MRI', \n",
    "    'TumorSite', 'Stage', 'Histology']\n",
    "\n",
    "X_imputed_train_df[numerical_columns] = scaler.fit_transform(X_imputed_train_df[numerical_columns])\n",
    "\n",
    "# Save the fitted StandardScaler using joblib\n",
    "joblib.dump(scaler, scaler_filename)"
   ]
  },
  {
   "cell_type": "code",
   "execution_count": 22,
   "id": "18016bf0",
   "metadata": {},
   "outputs": [
    {
     "data": {
      "text/plain": [
       "['C:/Users/bonif/OneDrive/Documentos/Final DB HDR/Final/UseThis/encoder']"
      ]
     },
     "execution_count": 22,
     "metadata": {},
     "output_type": "execute_result"
    }
   ],
   "source": [
    "# Initialize the TargetEncoder\n",
    "target_encoder = TargetEncoder(cols = categorical_columns)\n",
    "\n",
    "# Fit and transform the categorical variables\n",
    "X_imputed_train_df[categorical_columns] = target_encoder.fit_transform(X_imputed_train_df[categorical_columns], y_train)\n",
    "\n",
    "# Save the fitted TargetEncoder\n",
    "joblib.dump(target_encoder, encoder_filename)"
   ]
  },
  {
   "cell_type": "markdown",
   "id": "9e2b2ec2-f48c-437b-b77b-f7d4db20bfc3",
   "metadata": {},
   "source": [
    "# Drop Colinear Features"
   ]
  },
  {
   "cell_type": "code",
   "execution_count": 23,
   "id": "bd6e511b",
   "metadata": {},
   "outputs": [
    {
     "name": "stdout",
     "output_type": "stream",
     "text": [
      "                 Chemotherapy       BMI  Charlson       KPS  Ethnicity  \\\n",
      "Chemotherapy              NaN  0.027882  0.289440  0.331552   0.320308   \n",
      "BMI                       NaN       NaN  0.263603  0.214217   0.055045   \n",
      "Charlson                  NaN       NaN       NaN  0.333839   0.175617   \n",
      "KPS                       NaN       NaN       NaN       NaN   0.206251   \n",
      "Ethnicity                 NaN       NaN       NaN       NaN        NaN   \n",
      "AgeAtCompletion           NaN       NaN       NaN       NaN        NaN   \n",
      "TypeOfBoost               NaN       NaN       NaN       NaN        NaN   \n",
      "TreatmentDays             NaN       NaN       NaN       NaN        NaN   \n",
      "Applicator                NaN       NaN       NaN       NaN        NaN   \n",
      "MRI                       NaN       NaN       NaN       NaN        NaN   \n",
      "V100                      NaN       NaN       NaN       NaN        NaN   \n",
      "D50                       NaN       NaN       NaN       NaN        NaN   \n",
      "D90                       NaN       NaN       NaN       NaN        NaN   \n",
      "D98                       NaN       NaN       NaN       NaN        NaN   \n",
      "D0.1Bladder               NaN       NaN       NaN       NaN        NaN   \n",
      "D1Bladder                 NaN       NaN       NaN       NaN        NaN   \n",
      "D2Bladder                 NaN       NaN       NaN       NaN        NaN   \n",
      "D0.1SmallBowel            NaN       NaN       NaN       NaN        NaN   \n",
      "D1SmallBowel              NaN       NaN       NaN       NaN        NaN   \n",
      "D2SmallBowel              NaN       NaN       NaN       NaN        NaN   \n",
      "D0.1Sigmoid               NaN       NaN       NaN       NaN        NaN   \n",
      "D1Sigmoid                 NaN       NaN       NaN       NaN        NaN   \n",
      "D2Sigmoid                 NaN       NaN       NaN       NaN        NaN   \n",
      "D0.1Rectum                NaN       NaN       NaN       NaN        NaN   \n",
      "D1Rectum                  NaN       NaN       NaN       NaN        NaN   \n",
      "D2Rectum                  NaN       NaN       NaN       NaN        NaN   \n",
      "TumorSite                 NaN       NaN       NaN       NaN        NaN   \n",
      "Stage                     NaN       NaN       NaN       NaN        NaN   \n",
      "Histology                 NaN       NaN       NaN       NaN        NaN   \n",
      "Size                      NaN       NaN       NaN       NaN        NaN   \n",
      "HRCTVolume                NaN       NaN       NaN       NaN        NaN   \n",
      "FollowUp                  NaN       NaN       NaN       NaN        NaN   \n",
      "\n",
      "                 AgeAtCompletion  TypeOfBoost  TreatmentDays  Applicator  \\\n",
      "Chemotherapy            0.115216     0.195100       0.083844    0.219542   \n",
      "BMI                     0.342840     0.311791       0.185801    0.421836   \n",
      "Charlson                0.548255     0.254379       0.048070    0.257088   \n",
      "KPS                     0.234974     0.425239       0.028749    0.299889   \n",
      "Ethnicity               0.092052     0.086653       0.030962    0.021682   \n",
      "AgeAtCompletion              NaN     0.242465       0.090825    0.291318   \n",
      "TypeOfBoost                  NaN          NaN       0.204478    0.286180   \n",
      "TreatmentDays                NaN          NaN            NaN    0.148279   \n",
      "Applicator                   NaN          NaN            NaN         NaN   \n",
      "MRI                          NaN          NaN            NaN         NaN   \n",
      "V100                         NaN          NaN            NaN         NaN   \n",
      "D50                          NaN          NaN            NaN         NaN   \n",
      "D90                          NaN          NaN            NaN         NaN   \n",
      "D98                          NaN          NaN            NaN         NaN   \n",
      "D0.1Bladder                  NaN          NaN            NaN         NaN   \n",
      "D1Bladder                    NaN          NaN            NaN         NaN   \n",
      "D2Bladder                    NaN          NaN            NaN         NaN   \n",
      "D0.1SmallBowel               NaN          NaN            NaN         NaN   \n",
      "D1SmallBowel                 NaN          NaN            NaN         NaN   \n",
      "D2SmallBowel                 NaN          NaN            NaN         NaN   \n",
      "D0.1Sigmoid                  NaN          NaN            NaN         NaN   \n",
      "D1Sigmoid                    NaN          NaN            NaN         NaN   \n",
      "D2Sigmoid                    NaN          NaN            NaN         NaN   \n",
      "D0.1Rectum                   NaN          NaN            NaN         NaN   \n",
      "D1Rectum                     NaN          NaN            NaN         NaN   \n",
      "D2Rectum                     NaN          NaN            NaN         NaN   \n",
      "TumorSite                    NaN          NaN            NaN         NaN   \n",
      "Stage                        NaN          NaN            NaN         NaN   \n",
      "Histology                    NaN          NaN            NaN         NaN   \n",
      "Size                         NaN          NaN            NaN         NaN   \n",
      "HRCTVolume                   NaN          NaN            NaN         NaN   \n",
      "FollowUp                     NaN          NaN            NaN         NaN   \n",
      "\n",
      "                      MRI  ...  D2Sigmoid  D0.1Rectum  D1Rectum  D2Rectum  \\\n",
      "Chemotherapy     0.061992  ...   0.197088    0.029876  0.028248  0.032234   \n",
      "BMI              0.231702  ...   0.163759    0.188373  0.068301  0.012851   \n",
      "Charlson         0.074503  ...   0.222116    0.068566  0.120030  0.136244   \n",
      "KPS              0.256635  ...   0.175382    0.016428  0.038523  0.060899   \n",
      "Ethnicity        0.022149  ...   0.089275    0.050348  0.018045  0.008017   \n",
      "AgeAtCompletion  0.087375  ...   0.229142    0.083249  0.008714  0.018198   \n",
      "TypeOfBoost      0.192312  ...   0.274921    0.008906  0.129187  0.182830   \n",
      "TreatmentDays    0.257971  ...   0.252203    0.097460  0.198898  0.240964   \n",
      "Applicator       0.347244  ...   0.289055    0.076941  0.030747  0.073276   \n",
      "MRI                   NaN  ...   0.221079    0.010355  0.128268  0.191824   \n",
      "V100                  NaN  ...   0.430015    0.043296  0.203005  0.270189   \n",
      "D50                   NaN  ...   0.339981    0.024531  0.136059  0.176994   \n",
      "D90                   NaN  ...   0.362094    0.304948  0.349918  0.351174   \n",
      "D98                   NaN  ...   0.386327    0.286638  0.367405  0.384003   \n",
      "D0.1Bladder           NaN  ...   0.296427    0.060808  0.181600  0.219065   \n",
      "D1Bladder             NaN  ...   0.444249    0.092547  0.249390  0.300743   \n",
      "D2Bladder             NaN  ...   0.482960    0.107140  0.276065  0.331916   \n",
      "D0.1SmallBowel        NaN  ...   0.542252    0.196976  0.275862  0.308377   \n",
      "D1SmallBowel          NaN  ...   0.581826    0.207905  0.322636  0.368782   \n",
      "D2SmallBowel          NaN  ...   0.600560    0.213016  0.345298  0.398300   \n",
      "D0.1Sigmoid           NaN  ...   0.898684    0.192542  0.284436  0.314629   \n",
      "D1Sigmoid             NaN  ...   0.981817    0.184057  0.335072  0.391027   \n",
      "D2Sigmoid             NaN  ...        NaN    0.186577  0.355430  0.417400   \n",
      "D0.1Rectum            NaN  ...        NaN         NaN  0.916049  0.844699   \n",
      "D1Rectum              NaN  ...        NaN         NaN       NaN  0.986663   \n",
      "D2Rectum              NaN  ...        NaN         NaN       NaN       NaN   \n",
      "TumorSite             NaN  ...        NaN         NaN       NaN       NaN   \n",
      "Stage                 NaN  ...        NaN         NaN       NaN       NaN   \n",
      "Histology             NaN  ...        NaN         NaN       NaN       NaN   \n",
      "Size                  NaN  ...        NaN         NaN       NaN       NaN   \n",
      "HRCTVolume            NaN  ...        NaN         NaN       NaN       NaN   \n",
      "FollowUp              NaN  ...        NaN         NaN       NaN       NaN   \n",
      "\n",
      "                 TumorSite     Stage  Histology      Size  HRCTVolume  \\\n",
      "Chemotherapy      0.385459  0.246204   0.333811  0.142643    0.267542   \n",
      "BMI               0.048382  0.355500   0.101355  0.037069    0.070018   \n",
      "Charlson          0.276420  0.371817   0.323002  0.107040    0.100238   \n",
      "KPS               0.238450  0.465484   0.201778  0.031212    0.046383   \n",
      "Ethnicity         0.066251  0.187413   0.192262  0.101111    0.148403   \n",
      "AgeAtCompletion   0.181887  0.295432   0.167087  0.232719    0.054542   \n",
      "TypeOfBoost       0.186936  0.421712   0.269648  0.176941    0.006997   \n",
      "TreatmentDays     0.063126  0.201933   0.172146  0.170012    0.261215   \n",
      "Applicator        0.271466  0.467066   0.218455  0.058606    0.005347   \n",
      "MRI               0.066050  0.349151   0.224537  0.132206    0.265029   \n",
      "V100              0.120713  0.075844   0.195817  0.318854    0.785417   \n",
      "D50               0.145451  0.515427   0.114330  0.200720    0.249402   \n",
      "D90               0.009953  0.120201   0.011848  0.039023    0.258067   \n",
      "D98               0.027208  0.198780   0.006094  0.045960    0.213249   \n",
      "D0.1Bladder       0.269133  0.416315   0.124281  0.054925    0.089498   \n",
      "D1Bladder         0.306641  0.522039   0.183740  0.114199    0.060225   \n",
      "D2Bladder         0.310001  0.532675   0.196390  0.125557    0.037436   \n",
      "D0.1SmallBowel    0.186151  0.041630   0.114557  0.153250    0.165297   \n",
      "D1SmallBowel      0.169571  0.113229   0.129965  0.194477    0.172161   \n",
      "D2SmallBowel      0.156190  0.145480   0.137960  0.208633    0.172476   \n",
      "D0.1Sigmoid       0.263013  0.099582   0.111964  0.125168    0.207677   \n",
      "D1Sigmoid         0.260910  0.188547   0.146083  0.230998    0.217810   \n",
      "D2Sigmoid         0.242052  0.213103   0.153280  0.255854    0.215588   \n",
      "D0.1Rectum        0.069774  0.080121   0.033108  0.012036    0.007451   \n",
      "D1Rectum          0.081895  0.018965   0.090715  0.091744    0.103617   \n",
      "D2Rectum          0.081438  0.055963   0.110238  0.125654    0.147563   \n",
      "TumorSite              NaN  0.223734   0.132917  0.013866    0.068216   \n",
      "Stage                  NaN       NaN   0.379256  0.126791    0.015818   \n",
      "Histology              NaN       NaN        NaN  0.141060    0.169334   \n",
      "Size                   NaN       NaN        NaN       NaN    0.330546   \n",
      "HRCTVolume             NaN       NaN        NaN       NaN         NaN   \n",
      "FollowUp               NaN       NaN        NaN       NaN         NaN   \n",
      "\n",
      "                 FollowUp  \n",
      "Chemotherapy     0.088394  \n",
      "BMI              0.022152  \n",
      "Charlson         0.069428  \n",
      "KPS              0.027595  \n",
      "Ethnicity        0.084092  \n",
      "AgeAtCompletion  0.135581  \n",
      "TypeOfBoost      0.030987  \n",
      "TreatmentDays    0.123335  \n",
      "Applicator       0.023948  \n",
      "MRI              0.054788  \n",
      "V100             0.041291  \n",
      "D50              0.137149  \n",
      "D90              0.173924  \n",
      "D98              0.213703  \n",
      "D0.1Bladder      0.085930  \n",
      "D1Bladder        0.097310  \n",
      "D2Bladder        0.091491  \n",
      "D0.1SmallBowel   0.038378  \n",
      "D1SmallBowel     0.010471  \n",
      "D2SmallBowel     0.002036  \n",
      "D0.1Sigmoid      0.046629  \n",
      "D1Sigmoid        0.030960  \n",
      "D2Sigmoid        0.021824  \n",
      "D0.1Rectum       0.090623  \n",
      "D1Rectum         0.075328  \n",
      "D2Rectum         0.063407  \n",
      "TumorSite        0.045716  \n",
      "Stage            0.032266  \n",
      "Histology        0.085509  \n",
      "Size             0.023284  \n",
      "HRCTVolume       0.019698  \n",
      "FollowUp              NaN  \n",
      "\n",
      "[32 rows x 32 columns]\n"
     ]
    }
   ],
   "source": [
    "# Find co-linear features using Pearson Correlation Coefficient\n",
    "corr_matrix = X_imputed_train_df.corr().abs()\n",
    "\n",
    "# Pick up the upper triangle of our co-linearity matrix\n",
    "upper = corr_matrix.where(np.triu(np.ones(corr_matrix.shape), k=1).astype(bool))\n",
    "\n",
    "print(upper)"
   ]
  },
  {
   "cell_type": "code",
   "execution_count": 24,
   "id": "51a3053e",
   "metadata": {},
   "outputs": [
    {
     "name": "stdout",
     "output_type": "stream",
     "text": [
      "['D98', 'D1Bladder', 'D2Bladder', 'D1SmallBowel', 'D2SmallBowel', 'D1Sigmoid', 'D2Sigmoid', 'D1Rectum', 'D2Rectum']\n"
     ]
    }
   ],
   "source": [
    "# Find features with correlation greater than 0.85 and store them in a List\n",
    "to_drop = [column for column in upper.columns if any(upper[column] > 0.85)]\n",
    "\n",
    "# Print the variables that are co-linear\n",
    "print(to_drop)"
   ]
  },
  {
   "cell_type": "code",
   "execution_count": 25,
   "id": "85a6228e-e226-4564-ac80-b7e0182f36e4",
   "metadata": {},
   "outputs": [
    {
     "name": "stdout",
     "output_type": "stream",
     "text": [
      "                      D98\n",
      "Chemotherapy     0.060511\n",
      "BMI              0.137977\n",
      "Charlson         0.062662\n",
      "KPS              0.068232\n",
      "Ethnicity        0.046633\n",
      "AgeAtCompletion  0.035574\n",
      "TypeOfBoost      0.108325\n",
      "TreatmentDays    0.198848\n",
      "Applicator       0.184623\n",
      "MRI              0.046192\n",
      "V100             0.033853\n",
      "D50              0.483011\n",
      "D90              0.946374\n",
      "D98              1.000000\n",
      "D0.1Bladder      0.228317\n",
      "D1Bladder        0.350676\n",
      "D2Bladder        0.379272\n",
      "D0.1SmallBowel   0.258683\n",
      "D1SmallBowel     0.321082\n",
      "D2SmallBowel     0.350235\n",
      "D0.1Sigmoid      0.278435\n",
      "D1Sigmoid        0.363238\n",
      "D2Sigmoid        0.386327\n",
      "D0.1Rectum       0.286638\n",
      "D1Rectum         0.367405\n",
      "D2Rectum         0.384003\n",
      "TumorSite        0.027208\n",
      "Stage            0.198780\n",
      "Histology        0.006094\n",
      "Size             0.045960\n",
      "HRCTVolume       0.213249\n",
      "FollowUp         0.213703\n"
     ]
    }
   ],
   "source": [
    "# OPTIONAL: Print the co-lineariaty values for the variable you are planning to drop to see which variables it is co-linear with\n",
    "print(corr_matrix[['D98']]) "
   ]
  },
  {
   "cell_type": "code",
   "execution_count": 26,
   "id": "d2011df9-2195-426d-9a2d-367095ce3fdb",
   "metadata": {},
   "outputs": [],
   "source": [
    "# Determine which co-linear variables are appropiate to drop\n",
    "to_drop = ['D98','D1Bladder','D0.1SmallBowel', 'D1SmallBowel','D1Sigmoid', 'D0.1Rectum', 'D1Rectum']  "
   ]
  },
  {
   "cell_type": "code",
   "execution_count": 27,
   "id": "c91fd6f6",
   "metadata": {},
   "outputs": [
    {
     "data": {
      "text/plain": [
       "['Chemotherapy',\n",
       " 'BMI',\n",
       " 'Charlson',\n",
       " 'KPS',\n",
       " 'Ethnicity',\n",
       " 'AgeAtCompletion',\n",
       " 'TypeOfBoost',\n",
       " 'TreatmentDays',\n",
       " 'Applicator',\n",
       " 'MRI',\n",
       " 'V100',\n",
       " 'D50',\n",
       " 'D90',\n",
       " 'D0.1Bladder',\n",
       " 'D2Bladder',\n",
       " 'D2SmallBowel',\n",
       " 'D0.1Sigmoid',\n",
       " 'D2Sigmoid',\n",
       " 'D2Rectum',\n",
       " 'TumorSite',\n",
       " 'Stage',\n",
       " 'Histology',\n",
       " 'Size',\n",
       " 'HRCTVolume',\n",
       " 'FollowUp']"
      ]
     },
     "execution_count": 27,
     "metadata": {},
     "output_type": "execute_result"
    }
   ],
   "source": [
    "# Drop features for TRAINING set\n",
    "X_imputed_train_df = X_imputed_train_df.drop(to_drop, axis=1, inplace=False)\n",
    "\n",
    "# Print Final DB Columns\n",
    "X_imputed_train_df.columns.tolist()"
   ]
  },
  {
   "cell_type": "code",
   "execution_count": 28,
   "id": "7bdb4df2",
   "metadata": {},
   "outputs": [
    {
     "data": {
      "text/plain": [
       "Chemotherapy       0.001236\n",
       "BMI                1.003802\n",
       "Charlson           0.027248\n",
       "KPS                0.003201\n",
       "Ethnicity          0.000618\n",
       "AgeAtCompletion    1.003802\n",
       "TypeOfBoost        0.011197\n",
       "TreatmentDays      1.003802\n",
       "Applicator         0.005523\n",
       "MRI                0.015136\n",
       "V100               1.003802\n",
       "D50                1.003802\n",
       "D90                1.003802\n",
       "D0.1Bladder        1.003802\n",
       "D2Bladder          1.003802\n",
       "D2SmallBowel       1.003802\n",
       "D0.1Sigmoid        1.003802\n",
       "D2Sigmoid          1.003802\n",
       "D2Rectum           1.003802\n",
       "TumorSite          0.000751\n",
       "Stage              0.017475\n",
       "Histology          0.005096\n",
       "Size               1.003802\n",
       "HRCTVolume         1.003802\n",
       "FollowUp           1.003802\n",
       "dtype: float64"
      ]
     },
     "execution_count": 28,
     "metadata": {},
     "output_type": "execute_result"
    }
   ],
   "source": [
    "# Check the variance for remaining columns. Variance close to 0 means values are almost constant and may be considered to be dropped.\n",
    "X_imputed_train_df.var(0)"
   ]
  },
  {
   "cell_type": "markdown",
   "id": "e558f951-efb0-4d55-b5f4-ac76c7e04668",
   "metadata": {},
   "source": [
    "# Load external instances (optional)"
   ]
  },
  {
   "cell_type": "code",
   "execution_count": 29,
   "id": "6cfeb70b",
   "metadata": {},
   "outputs": [],
   "source": [
    "# Load all fitted transformers - if needed\n",
    "imputer_categorical = joblib.load(cat_imputer_filename)\n",
    "\n",
    "imputer_numerical = joblib.load(num_imputer_filename)\n",
    "\n",
    "scaler = joblib.load(scaler_filename)\n",
    "\n",
    "target_encoder = joblib.load(encoder_filename)"
   ]
  },
  {
   "cell_type": "markdown",
   "id": "2a0a94d4-022f-4f8f-85b6-8723c1b0ba3c",
   "metadata": {},
   "source": [
    "# Preparing datasets for final fit"
   ]
  },
  {
   "cell_type": "code",
   "execution_count": 30,
   "id": "0e738de6",
   "metadata": {},
   "outputs": [],
   "source": [
    "# Transform the numerical columns in the assesment training data (unbalanced)\n",
    "X_imputed_train_final[numerical_columns] = scaler.transform(X_imputed_train_final[numerical_columns])\n",
    "\n",
    "# Apply the TargetEncoder to the categorical columns in the assesment training data (unbalanced)\n",
    "X_imputed_train_final[categorical_columns] = target_encoder.transform(X_imputed_train_final[categorical_columns])\n",
    "\n",
    "# Drop features for the assesment training data (unbalanced)\n",
    "X_imputed_train_final = X_imputed_train_final.drop(to_drop, axis = 1, inplace = False)"
   ]
  },
  {
   "cell_type": "code",
   "execution_count": 31,
   "id": "fc204227-c370-42ca-b9e7-e1642afe4f7a",
   "metadata": {},
   "outputs": [],
   "source": [
    "# Preprocess test data with the previously fitted transformers \n",
    "X_test[categorical_columns] = imputer_categorical.transform(X_test)[ : , categorical_columns_index]\n",
    "X_imputed_test = imputer_numerical.transform(X_test)\n",
    "\n",
    "X_imputed_test_df = pd.DataFrame(X_imputed_test, columns = X_test.columns)\n",
    "X_imputed_test_df.index = y_test.index\n",
    "\n",
    "X_imputed_test_df[numerical_columns] = scaler.transform(X_imputed_test_df[numerical_columns])\n",
    "X_imputed_test_df[categorical_columns] = target_encoder.transform(X_imputed_test_df[categorical_columns])\n",
    "\n",
    "# Drop features for the Testing data\n",
    "X_imputed_test_df = X_imputed_test_df.drop(to_drop, axis = 1, inplace = False)"
   ]
  },
  {
   "cell_type": "code",
   "execution_count": 32,
   "id": "2f99e82f",
   "metadata": {},
   "outputs": [
    {
     "name": "stdout",
     "output_type": "stream",
     "text": [
      "\u001b[1mMissing Values for Each Column in Final Training Set\n",
      "\u001b[0m\n",
      "Chemotherapy       0\n",
      "BMI                0\n",
      "Charlson           0\n",
      "KPS                0\n",
      "Ethnicity          0\n",
      "AgeAtCompletion    0\n",
      "TypeOfBoost        0\n",
      "TreatmentDays      0\n",
      "Applicator         0\n",
      "MRI                0\n",
      "V100               0\n",
      "D50                0\n",
      "D90                0\n",
      "D0.1Bladder        0\n",
      "D2Bladder          0\n",
      "D2SmallBowel       0\n",
      "D0.1Sigmoid        0\n",
      "D2Sigmoid          0\n",
      "D2Rectum           0\n",
      "TumorSite          0\n",
      "Stage              0\n",
      "Histology          0\n",
      "Size               0\n",
      "HRCTVolume         0\n",
      "FollowUp           0\n",
      "dtype: int64\n",
      "\n",
      "\u001b[1mMissing Values for Each Column in Testing Set\n",
      "\u001b[0m\n",
      "Chemotherapy       0\n",
      "BMI                0\n",
      "Charlson           0\n",
      "KPS                0\n",
      "Ethnicity          0\n",
      "AgeAtCompletion    0\n",
      "TypeOfBoost        0\n",
      "TreatmentDays      0\n",
      "Applicator         0\n",
      "MRI                0\n",
      "V100               0\n",
      "D50                0\n",
      "D90                0\n",
      "D0.1Bladder        0\n",
      "D2Bladder          0\n",
      "D2SmallBowel       0\n",
      "D0.1Sigmoid        0\n",
      "D2Sigmoid          0\n",
      "D2Rectum           0\n",
      "TumorSite          0\n",
      "Stage              0\n",
      "Histology          0\n",
      "Size               0\n",
      "HRCTVolume         0\n",
      "FollowUp           0\n",
      "dtype: int64\n"
     ]
    }
   ],
   "source": [
    "# Counting NaN values in final datasets\n",
    "nan_count_assesment = X_imputed_train_final.isna().sum()\n",
    "print(\"\\033[1m\" + \"Missing Values for Each Column in Final Training Set\\n\" + \"\\033[0m\")\n",
    "print(nan_count_assesment)\n",
    "\n",
    "nan_count = X_imputed_test_df.isna().sum()\n",
    "print(\"\\n\\033[1m\" + \"Missing Values for Each Column in Testing Set\\n\" + \"\\033[0m\")\n",
    "print(nan_count)"
   ]
  },
  {
   "cell_type": "code",
   "execution_count": 33,
   "id": "cdec0caa",
   "metadata": {},
   "outputs": [],
   "source": [
    "# Changing the format of our Y label so that it is compatible with the Sequential Feature Selection method.\n",
    "labels_test = np.ravel(y_test)\n",
    "labels_train = np.ravel(y_train)"
   ]
  },
  {
   "cell_type": "markdown",
   "id": "092ded2c-c4b8-4ff5-bbe6-8eeb9edd14ac",
   "metadata": {},
   "source": [
    "# Hyperparameter Tuning"
   ]
  },
  {
   "cell_type": "markdown",
   "id": "039ba18a-e7c1-470c-8ec2-c58a824e9b82",
   "metadata": {},
   "source": [
    "## Logistic Regression"
   ]
  },
  {
   "cell_type": "code",
   "execution_count": 34,
   "id": "185df9e6-d4ae-4e75-9e91-80fd822241af",
   "metadata": {},
   "outputs": [],
   "source": [
    "# Instances\n",
    "lr1 = LogisticRegression(random_state = 42, max_iter = 250)\n",
    "lr2 = LogisticRegression(random_state = 42, max_iter = 250)\n",
    "\n",
    "# Sequential Feature Selection\n",
    "sfsLR = SFS(estimator = lr1, \n",
    "    k_features = 'best',\n",
    "    forward = True, \n",
    "    floating = False, \n",
    "    scoring = 'f1',\n",
    "    cv = sss)\n",
    "\n",
    "# Pipeline\n",
    "pipe_lr = Pipeline([\n",
    "    ('lr2', lr2)])\n",
    "\n",
    "# Hyperparameters to explore\n",
    "param_range_fl = [1.0, 0.7, 0.5, 0.3, 0.1]\n",
    "\n",
    "lr_param_grid = [{'lr2__penalty': ['l1', 'l2'],\n",
    "    'lr2__C': param_range_fl,\n",
    "    'lr2__solver': ['liblinear','lbfgs']}]\n",
    "\n",
    "# Gridsearch will use the parameters defined on param_grids to find the best Hyper-Parameter for the model.\n",
    "lr_grid_search = GridSearchCV(estimator = pipe_lr,\n",
    "    param_grid = lr_param_grid,\n",
    "    scoring = 'f1',\n",
    "    cv = sss)"
   ]
  },
  {
   "cell_type": "markdown",
   "id": "5e144e34-3855-4ca3-aaa4-83c4aab4851f",
   "metadata": {},
   "source": [
    "## Random Forest"
   ]
  },
  {
   "cell_type": "code",
   "execution_count": 35,
   "id": "52139104-286d-4c25-b4fa-5fedcef61242",
   "metadata": {},
   "outputs": [],
   "source": [
    "# Instances\n",
    "rf2 = RandomForestClassifier(random_state = 42)\n",
    "\n",
    "# SFS placeholder - needed for \"zip\" function used to calculate metrics afterwards\n",
    "sfsRF = 'placeholder'\n",
    "\n",
    "# Pipeline\n",
    "pipe_rf = Pipeline([\n",
    "    ('rf2', rf2)])\n",
    "\n",
    "# Hyperparameters to explore\n",
    "param_range_rf = [5, 6, 7, 8, 9, 10]\n",
    "param_estimators_rf = [10, 15, 20, 25, 30, 35, 40, 45, 50]\n",
    "param_max_features = ['sqrt', 'log2']\n",
    "\n",
    "rf_param_grid = [{'rf2__min_samples_leaf': param_range_rf,\n",
    "        'rf2__n_estimators': param_estimators_rf,\n",
    "        'rf2__min_samples_split': param_range_rf,\n",
    "        'rf2__max_features': param_max_features}]\n",
    "\n",
    "# Gridsearch will use the parameters defined on param_grids to find the best Hyper-Parameter for the model.\n",
    "rf_grid_search = GridSearchCV(estimator = pipe_rf,     \n",
    "    param_grid = rf_param_grid,\n",
    "    scoring = 'f1',\n",
    "    cv = sss)"
   ]
  },
  {
   "cell_type": "markdown",
   "id": "b6702539-6c75-40f9-ba4b-dd8a02495adc",
   "metadata": {},
   "source": [
    "## K-Nearest Neighbors"
   ]
  },
  {
   "cell_type": "code",
   "execution_count": 36,
   "id": "b4a3c1ea-e580-432e-afa0-d4233fa91865",
   "metadata": {},
   "outputs": [],
   "source": [
    "# Instances\n",
    "knn1 = KNeighborsClassifier()\n",
    "knn2 = KNeighborsClassifier()\n",
    "\n",
    "# Sequential Feature Selection\n",
    "sfsKNN = SFS(estimator = knn1, \n",
    "    k_features = 'best',\n",
    "    forward = True, \n",
    "    floating = False, \n",
    "    scoring = 'f1',\n",
    "    cv = sss)\n",
    "\n",
    "# Pipeline\n",
    "pipe_knn = Pipeline([\n",
    "    ('knn2', knn2)])\n",
    "\n",
    "# Hyperparameters to explore\n",
    "param_range_knn = [1, 2, 3, 4, 5, 6, 7, 8, 9, 10]\n",
    "\n",
    "knn_param_grid = [{'knn2__n_neighbors': param_range_knn}]\n",
    "\n",
    "# Gridsearch will use the parameters defined on param_grids to find the best Hyper-Parameter for the model.\n",
    "knn_grid_search = GridSearchCV(estimator = pipe_knn,\n",
    "    param_grid = knn_param_grid,\n",
    "    scoring = 'f1',\n",
    "    cv = sss)"
   ]
  },
  {
   "cell_type": "markdown",
   "id": "2d341a82-ae15-418f-ac68-8533c451076d",
   "metadata": {},
   "source": [
    "## Support Vector Machines"
   ]
  },
  {
   "cell_type": "code",
   "execution_count": 37,
   "id": "8fc727a4-1c88-4e69-8c91-28c6f350b49c",
   "metadata": {},
   "outputs": [],
   "source": [
    "# Instances\n",
    "svm1 = SVC(random_state = 42, probability = True)\n",
    "svm2 = SVC(random_state = 42, probability = True)\n",
    "\n",
    "# Sequential Feature Selection\n",
    "sfsSVM = SFS(estimator = svm1, \n",
    "    k_features = 'best',\n",
    "    forward = True, \n",
    "    floating = False, \n",
    "    scoring = 'f1',\n",
    "    cv = sss)\n",
    "\n",
    "# Pipeline\n",
    "pipe_svm = Pipeline([\n",
    "    ('svm2',svm2)])\n",
    "\n",
    "# Hyperparameters to explore\n",
    "param_range_svm = [1, 2, 3, 4, 5, 6, 7, 8, 9, 10]\n",
    "\n",
    "svm_param_grid = [{'svm2__kernel': ['linear', 'rbf','poly','sigmoid'],\n",
    "    'svm2__gamma': ['scale', 'auto'], \n",
    "    'svm2__C': param_range_svm}]\n",
    "\n",
    "# Gridsearch will use the parameters defined on param_grids to find the best Hyper-Parameter for the model.\n",
    "svm_grid_search = GridSearchCV(estimator = pipe_svm,\n",
    "    param_grid = svm_param_grid,\n",
    "    scoring = 'f1',\n",
    "    cv = sss)"
   ]
  },
  {
   "cell_type": "markdown",
   "id": "7508436e-0316-4114-bd7e-abc124dc659f",
   "metadata": {},
   "source": [
    "## Gaussian Naive Bayes"
   ]
  },
  {
   "cell_type": "code",
   "execution_count": 38,
   "id": "32ede51f-1ad6-4f54-a896-0a680f06c1c2",
   "metadata": {},
   "outputs": [],
   "source": [
    "# Instances\n",
    "gnb1 = GaussianNB()\n",
    "gnb2 = GaussianNB()\n",
    "\n",
    "# Sequential Feature Selection\n",
    "sfsGNB = SFS(estimator = gnb1, \n",
    "    k_features = 'best',\n",
    "    forward = True, \n",
    "    floating = False, \n",
    "    scoring = 'f1',\n",
    "    cv = sss)\n",
    "\n",
    "# Pipeline\n",
    "pipe_gnb = Pipeline([\n",
    "    ('gnb2',gnb2)])\n",
    "\n",
    "# Hyperparameters to explore\n",
    "var_smoothingNumbers=[5e-08, 1e-09, 5e-09]\n",
    "\n",
    "gnb_param_grid = [{'gnb2__var_smoothing': var_smoothingNumbers}]\n",
    "\n",
    "# Gridsearch will use the parameters defined on param_grids to find the best Hyper-Parameter for the model.\n",
    "gnb_grid_search = GridSearchCV(estimator = pipe_gnb,\n",
    "    param_grid = gnb_param_grid,\n",
    "    scoring = 'f1',\n",
    "    cv = sss)"
   ]
  },
  {
   "cell_type": "markdown",
   "id": "640083d4-0c5c-4a76-ac59-884abaed039c",
   "metadata": {},
   "source": [
    "## MultiLayer Perceptron"
   ]
  },
  {
   "cell_type": "code",
   "execution_count": 39,
   "id": "dfd87e2b-7b8e-4b18-b88e-25b2936a9daa",
   "metadata": {},
   "outputs": [],
   "source": [
    "# Instances\n",
    "mlp2 = MLPClassifier(hidden_layer_sizes = (16,8), random_state = 42) \n",
    "\n",
    "# SFS placeholder - needed for \"zip\" function used to calculate metrics afterwards\n",
    "sfsMLP = 'placeholder'\n",
    "\n",
    "# Pipeline\n",
    "pipe_mlp = Pipeline([\n",
    "    ('mlp2', mlp2)])\n",
    "\n",
    "# Hyperparameters to explore\n",
    "learning_rates = [0.001, .1, .15, .2, .3, .5, 1]\n",
    "MLPalpha=[0.0001, 0.0005, 0.001]\n",
    "MLPbatchsize=[20, 32, 50]\n",
    "MLPtols=[0.00001, 0.0001, 0.0005]\n",
    "\n",
    "mlp_param_grid = [{ 'mlp2__learning_rate': ['constant', 'invscaling','adaptive'],\n",
    "    'mlp2__activation': ['logistic', 'tanh', 'relu'],\n",
    "    'mlp2__solver': ['lbfgs', 'sgd'],\n",
    "    'mlp2__learning_rate_init': learning_rates,\n",
    "    'mlp2__alpha': MLPalpha,\n",
    "    'mlp2__batch_size': MLPbatchsize,\n",
    "    'mlp2__tol': MLPtols}]\n",
    "\n",
    "# Gridsearch will use the parameters defined on param_grids to find the best Hyper-Parameter for the model.\n",
    "mlp_grid_search = GridSearchCV(estimator = pipe_mlp,     \n",
    "    param_grid = mlp_param_grid,\n",
    "    scoring = 'f1',\n",
    "    cv = sss)"
   ]
  },
  {
   "cell_type": "markdown",
   "id": "caca50d1-2489-42e2-8b10-8e2565509a64",
   "metadata": {},
   "source": [
    "# GridSearch Exploration"
   ]
  },
  {
   "cell_type": "code",
   "execution_count": 40,
   "id": "a41d6c98-4a13-45d4-b854-8daf07748ff8",
   "metadata": {},
   "outputs": [
    {
     "name": "stdout",
     "output_type": "stream",
     "text": [
      "Finished Logistic Regression -> 0.2443674882253011 m\n",
      "Finished Random Forest -> 4.357567222913106 m\n",
      "Finished K-Nearest Neighbors -> 0.5968971093495686 m\n",
      "Finished Support Vector Machines -> 0.7863151470820109 m\n",
      "Finished Gaussian Naive Bayes -> 0.15833582878112792 m\n",
      "Finished Multi-Layer Perceptron -> 114.40114638010661 m\n",
      "Total time -> 120.54489187002181 m\n"
     ]
    }
   ],
   "source": [
    "# Models we are exploring\n",
    "grid_dict = {0: 'Logistic Regression', 1: 'Random Forest', 2: 'K-Nearest Neighbors',\n",
    "3: 'Support Vector Machines', 4: 'Gaussian Naive Bayes', 5: 'Multi-Layer Perceptron'}\n",
    "\n",
    "grids = [lr_grid_search, rf_grid_search, knn_grid_search, svm_grid_search, gnb_grid_search, mlp_grid_search]\n",
    "\n",
    "SFSList = [sfsLR, sfsRF, sfsKNN, sfsSVM, sfsGNB, sfsMLP]\n",
    "\n",
    "total_time_start = time.time()\n",
    "\n",
    "j = 0\n",
    "for pipe, sfs in zip(grids, SFSList):\n",
    "    \n",
    "    if sfs == sfsLR or sfs == sfsKNN or sfs == sfsSVM or sfs == sfsGNB:\n",
    "        \n",
    "        model_time_start = time.time()\n",
    "        \n",
    "        # Fit the SFS to the balanced Train data [This will also update the SFSList items]\n",
    "        sfs = sfs.fit(X_imputed_train_df, labels_train)\n",
    "\n",
    "        # Get selected feature indices\n",
    "        selected_feature_indices = list(sfs.k_feature_idx_)\n",
    "\n",
    "        # Create a pandas DataFrame with selected features\n",
    "        sfsFinal = X_imputed_train_df.iloc[:, selected_feature_indices]\n",
    "\n",
    "        # Rename columns to original feature names\n",
    "        sfsFinal.columns = X_imputed_train_df.columns[selected_feature_indices]\n",
    "\n",
    "        # Perform the GridSearch\n",
    "        pipe.fit(sfsFinal, labels_train)\n",
    "\n",
    "        print(f'Finished {grid_dict[j]} -> {(time.time() - model_time_start)/60} m' )\n",
    "        j += 1\n",
    "        \n",
    "    else:\n",
    "\n",
    "        model_time_start = time.time()\n",
    "        \n",
    "        # Perform the GridSearch\n",
    "        pipe.fit(X_imputed_train_df, labels_train)\n",
    "\n",
    "        print(f'Finished {grid_dict[j]} -> {(time.time() - model_time_start)/60} m' )\n",
    "        j += 1\n",
    "\n",
    "print(f'Total time -> {(time.time() - total_time_start)/60} m' )"
   ]
  },
  {
   "cell_type": "markdown",
   "id": "3cd6d816-e8b1-47f9-9b72-e6c8d7c6c242",
   "metadata": {},
   "source": [
    "# Final Model Training"
   ]
  },
  {
   "cell_type": "code",
   "execution_count": 41,
   "id": "d548efc5-73e2-4ab0-854f-d3a1a9a6b3d3",
   "metadata": {},
   "outputs": [],
   "source": [
    "import scipy.stats\n",
    "import numpy as np\n",
    "\n",
    "def ci95(mean_val, n_val):\n",
    "    # Ensure mean_val does not exceed 1\n",
    "    if mean_val > 1:\n",
    "        mean_val = 1\n",
    "    \n",
    "    # Calculate the z-value for 95% confidence\n",
    "    z_val = scipy.stats.norm.ppf((1 + 0.95) / 2.0)\n",
    "    \n",
    "    # Calculate the confidence interval\n",
    "    ci = z_val * np.sqrt((mean_val * (1 - mean_val)) / n_val)\n",
    "    \n",
    "    # Calculate the lower and upper bounds\n",
    "    lower_bound = mean_val - ci\n",
    "    upper_bound = mean_val + ci\n",
    "    \n",
    "    # Ensure bounds are within [0, 1]\n",
    "    if lower_bound < 0:\n",
    "        lower_bound = 0\n",
    "    if upper_bound > 1:\n",
    "        upper_bound = 1\n",
    "    \n",
    "    # Round bounds to two decimal places\n",
    "    lower_bound = round(lower_bound, 2)\n",
    "    upper_bound = round(upper_bound, 2)\n",
    "    \n",
    "    return [lower_bound, upper_bound]"
   ]
  },
  {
   "cell_type": "code",
   "execution_count": 42,
   "id": "1473797b-d463-4941-ac5b-df4eb4a1b525",
   "metadata": {},
   "outputs": [
    {
     "name": "stdout",
     "output_type": "stream",
     "text": [
      "----- Logistic Regression -----\n",
      "Best Hyper Parameters -> {'lr2__C': 1.0, 'lr2__penalty': 'l2', 'lr2__solver': 'lbfgs'}\n",
      "SFS F1 Score -> 0.8058071575779342\n",
      "SFS Feature Names -> ('Chemotherapy', 'Charlson', 'KPS', 'Ethnicity', 'TypeOfBoost', 'Applicator', 'D2SmallBowel', 'D2Rectum', 'TumorSite', 'Stage', 'Histology', 'FollowUp')\n",
      "Score for Trained Tuned model -> 0.8058071575779342\n",
      "\n",
      "Train Data F1 Score -> 0.45                           Confidence Interval (95%) -> [0.38, 0.52]\n",
      "Train Data normMCC -> 0.6434790051561212             Confidence Interval (95%) -> [0.57, 0.71]\n",
      "Train Data Accuracy -> 0.7471264367816092             Confidence Interval (95%) -> [0.68, 0.81]\n",
      "Train Data Precision -> 0.47368421052631576            Confidence Interval (95%) -> [0.4, 0.55]\n",
      "Train Data Recall -> 0.42857142857142855            Confidence Interval (95%) -> [0.36, 0.5]\n",
      "\n",
      "Test Data F1 Score -> 0.5217391304347826             Confidence Interval (95%) -> [0.39, 0.65]\n",
      "Test Data normMCC -> 0.7141057445312242             Confidence Interval (95%) -> [0.6, 0.83]\n",
      "Test Data Accuracy -> 0.8135593220338984             Confidence Interval (95%) -> [0.71, 0.91]\n",
      "Test Data Precision -> 0.6666666666666666             Confidence Interval (95%) -> [0.55, 0.79]\n",
      "Test Data Recall -> 0.42857142857142855            Confidence Interval (95%) -> [0.3, 0.55]\n",
      "\n",
      "Train Data AUC-ROC Score -> 0.7198773448773449             Confidence Interval (95%) -> [0.65, 0.79]\n",
      "Train Data AUC-PR Score- > 0.4324848236414806             Confidence Interval (95%) -> [0.36, 0.51]\n",
      "\n",
      "Test Data AUC-ROC Score -> 0.6761904761904762             Confidence Interval (95%) -> [0.56, 0.8]\n",
      "Test Data AUC-PR Score- > 0.4685494593852829             Confidence Interval (95%) -> [0.34, 0.6]\n",
      "\n",
      "\n",
      "----- Random Forest -----\n",
      "Score for Trained Tuned model -> 0.8217482811858083\n",
      "\n",
      "Train Data F1 Score -> 0.8205128205128205             Confidence Interval (95%) -> [0.76, 0.88]\n",
      "Train Data normMCC -> 0.8864252942292471             Confidence Interval (95%) -> [0.84, 0.93]\n",
      "Train Data Accuracy -> 0.9195402298850575             Confidence Interval (95%) -> [0.88, 0.96]\n",
      "Train Data Precision -> 0.8888888888888888             Confidence Interval (95%) -> [0.84, 0.94]\n",
      "Train Data Recall -> 0.7619047619047619             Confidence Interval (95%) -> [0.7, 0.83]\n",
      "\n",
      "Test Data F1 Score -> 0.5714285714285714             Confidence Interval (95%) -> [0.45, 0.7]\n",
      "Test Data normMCC -> 0.7672938725507137             Confidence Interval (95%) -> [0.66, 0.88]\n",
      "Test Data Accuracy -> 0.847457627118644              Confidence Interval (95%) -> [0.76, 0.94]\n",
      "Test Data Precision -> 0.8571428571428571             Confidence Interval (95%) -> [0.77, 0.95]\n",
      "Test Data Recall -> 0.42857142857142855            Confidence Interval (95%) -> [0.3, 0.55]\n",
      "\n",
      "Train Data AUC-ROC Score -> 0.9733044733044733             Confidence Interval (95%) -> [0.95, 1.0]\n",
      "Train Data AUC-PR Score- > 0.9257339049197436             Confidence Interval (95%) -> [0.89, 0.96]\n",
      "\n",
      "Test Data AUC-ROC Score -> 0.7603174603174603             Confidence Interval (95%) -> [0.65, 0.87]\n",
      "Test Data AUC-PR Score- > 0.5214350781239584             Confidence Interval (95%) -> [0.39, 0.65]\n",
      "\n",
      "\n",
      "----- K-Nearest Neighbors -----\n",
      "Best Hyper Parameters -> {'knn2__n_neighbors': 5}\n",
      "SFS F1 Score -> 0.8361686728180098\n",
      "SFS Feature Names -> ('Chemotherapy', 'Charlson', 'Ethnicity', 'TypeOfBoost', 'Applicator', 'MRI', 'D90', 'D2Rectum', 'Stage', 'Histology', 'FollowUp')\n",
      "Score for Trained Tuned model -> 0.8361686728180098\n",
      "\n",
      "Train Data F1 Score -> 0.7191011235955056             Confidence Interval (95%) -> [0.65, 0.79]\n",
      "Train Data normMCC -> 0.8123817667690874             Confidence Interval (95%) -> [0.75, 0.87]\n",
      "Train Data Accuracy -> 0.8563218390804598             Confidence Interval (95%) -> [0.8, 0.91]\n",
      "Train Data Precision -> 0.6808510638297872             Confidence Interval (95%) -> [0.61, 0.75]\n",
      "Train Data Recall -> 0.7619047619047619             Confidence Interval (95%) -> [0.7, 0.83]\n",
      "\n",
      "Test Data F1 Score -> 0.3225806451612903             Confidence Interval (95%) -> [0.2, 0.44]\n",
      "Test Data normMCC -> 0.542493791180778              Confidence Interval (95%) -> [0.42, 0.67]\n",
      "Test Data Accuracy -> 0.6440677966101694             Confidence Interval (95%) -> [0.52, 0.77]\n",
      "Test Data Precision -> 0.29411764705882354            Confidence Interval (95%) -> [0.18, 0.41]\n",
      "Test Data Recall -> 0.35714285714285715            Confidence Interval (95%) -> [0.23, 0.48]\n",
      "\n",
      "Train Data AUC-ROC Score -> 0.9125180375180375             Confidence Interval (95%) -> [0.87, 0.95]\n",
      "Train Data AUC-PR Score- > 0.7795326695278789             Confidence Interval (95%) -> [0.72, 0.84]\n",
      "\n",
      "Test Data AUC-ROC Score -> 0.6206349206349207             Confidence Interval (95%) -> [0.5, 0.74]\n",
      "Test Data AUC-PR Score- > 0.4574736908460665             Confidence Interval (95%) -> [0.33, 0.58]\n",
      "\n",
      "\n",
      "----- Support Vector Machines -----\n",
      "Best Hyper Parameters -> {'svm2__C': 1, 'svm2__gamma': 'scale', 'svm2__kernel': 'rbf'}\n",
      "SFS F1 Score -> 0.8427509320411843\n",
      "SFS Feature Names -> ('Chemotherapy', 'Charlson', 'KPS', 'MRI', 'D2SmallBowel', 'D2Sigmoid', 'Stage', 'Histology', 'HRCTVolume', 'FollowUp')\n",
      "Score for Trained Tuned model -> 0.8427509320411843\n",
      "\n",
      "Train Data F1 Score -> 0.6097560975609756             Confidence Interval (95%) -> [0.54, 0.68]\n",
      "Train Data normMCC -> 0.7448991400084835             Confidence Interval (95%) -> [0.68, 0.81]\n",
      "Train Data Accuracy -> 0.8160919540229885             Confidence Interval (95%) -> [0.76, 0.87]\n",
      "Train Data Precision -> 0.625                          Confidence Interval (95%) -> [0.55, 0.7]\n",
      "Train Data Recall -> 0.5952380952380952             Confidence Interval (95%) -> [0.52, 0.67]\n",
      "\n",
      "Test Data F1 Score -> 0.625                          Confidence Interval (95%) -> [0.5, 0.75]\n",
      "Test Data normMCC -> 0.7478496151996912             Confidence Interval (95%) -> [0.64, 0.86]\n",
      "Test Data Accuracy -> 0.7966101694915254             Confidence Interval (95%) -> [0.69, 0.9]\n",
      "Test Data Precision -> 0.5555555555555556             Confidence Interval (95%) -> [0.43, 0.68]\n",
      "Test Data Recall -> 0.7142857142857143             Confidence Interval (95%) -> [0.6, 0.83]\n",
      "\n",
      "Train Data AUC-ROC Score -> 0.8722943722943723             Confidence Interval (95%) -> [0.82, 0.92]\n",
      "Train Data AUC-PR Score- > 0.5954333066978582             Confidence Interval (95%) -> [0.52, 0.67]\n",
      "\n",
      "Test Data AUC-ROC Score -> 0.7777777777777777             Confidence Interval (95%) -> [0.67, 0.88]\n",
      "Test Data AUC-PR Score- > 0.6487301315273368             Confidence Interval (95%) -> [0.53, 0.77]\n",
      "\n",
      "\n",
      "----- Gaussian Naive Bayes -----\n",
      "Best Hyper Parameters -> {'gnb2__var_smoothing': 5e-08}\n",
      "SFS F1 Score -> 0.8266888201515531\n",
      "SFS Feature Names -> ('Chemotherapy', 'Charlson', 'KPS', 'D50', 'Stage', 'Histology', 'Size', 'FollowUp')\n",
      "Score for Trained Tuned model -> 0.8266888201515531\n",
      "\n",
      "Train Data F1 Score -> 0.3333333333333333             Confidence Interval (95%) -> [0.26, 0.4]\n",
      "Train Data normMCC -> 0.6617464583442765             Confidence Interval (95%) -> [0.59, 0.73]\n",
      "Train Data Accuracy -> 0.7931034482758621             Confidence Interval (95%) -> [0.73, 0.85]\n",
      "Train Data Precision -> 0.75                           Confidence Interval (95%) -> [0.69, 0.81]\n",
      "Train Data Recall -> 0.21428571428571427            Confidence Interval (95%) -> [0.15, 0.28]\n",
      "\n",
      "Test Data F1 Score -> 0.23529411764705882            Confidence Interval (95%) -> [0.13, 0.34]\n",
      "Test Data normMCC -> 0.6168042596475253             Confidence Interval (95%) -> [0.49, 0.74]\n",
      "Test Data Accuracy -> 0.7796610169491526             Confidence Interval (95%) -> [0.67, 0.89]\n",
      "Test Data Precision -> 0.6666666666666666             Confidence Interval (95%) -> [0.55, 0.79]\n",
      "Test Data Recall -> 0.14285714285714285            Confidence Interval (95%) -> [0.05, 0.23]\n",
      "\n",
      "Train Data AUC-ROC Score -> 0.6679292929292929             Confidence Interval (95%) -> [0.6, 0.74]\n",
      "Train Data AUC-PR Score- > 0.39884223305505595            Confidence Interval (95%) -> [0.33, 0.47]\n",
      "\n",
      "Test Data AUC-ROC Score -> 0.5682539682539682             Confidence Interval (95%) -> [0.44, 0.69]\n",
      "Test Data AUC-PR Score- > 0.3400780849529903             Confidence Interval (95%) -> [0.22, 0.46]\n",
      "\n",
      "\n",
      "----- Multi-Layer Perceptron -----\n",
      "Score for Trained Tuned model -> 0.848082228441695\n",
      "\n",
      "Train Data F1 Score -> 1.0                            Confidence Interval (95%) -> [1.0, 1.0]\n",
      "Train Data normMCC -> 1.0                            Confidence Interval (95%) -> [1.0, 1.0]\n",
      "Train Data Accuracy -> 1.0                            Confidence Interval (95%) -> [1.0, 1.0]\n",
      "Train Data Precision -> 1.0                            Confidence Interval (95%) -> [1.0, 1.0]\n",
      "Train Data Recall -> 1.0                            Confidence Interval (95%) -> [1.0, 1.0]\n",
      "\n",
      "Test Data F1 Score -> 0.3888888888888889             Confidence Interval (95%) -> [0.26, 0.51]\n",
      "Test Data normMCC -> 0.5733122968859445             Confidence Interval (95%) -> [0.45, 0.7]\n",
      "Test Data Accuracy -> 0.6271186440677966             Confidence Interval (95%) -> [0.5, 0.75]\n",
      "Test Data Precision -> 0.3181818181818182             Confidence Interval (95%) -> [0.2, 0.44]\n",
      "Test Data Recall -> 0.5                            Confidence Interval (95%) -> [0.37, 0.63]\n",
      "\n",
      "Train Data AUC-ROC Score -> 1.0                            Confidence Interval (95%) -> [1.0, 1.0]\n",
      "Train Data AUC-PR Score- > 1.0000000000000002             Confidence Interval (95%) -> [1.0, 1.0]\n",
      "\n",
      "Test Data AUC-ROC Score -> 0.6571428571428571             Confidence Interval (95%) -> [0.54, 0.78]\n",
      "Test Data AUC-PR Score- > 0.4368982764692084             Confidence Interval (95%) -> [0.31, 0.56]\n",
      "\n",
      "\n"
     ]
    }
   ],
   "source": [
    "# Using the best hyperparameters from GridSearch, the final model is fitted for each algorithm\n",
    "for i, (sfsItem, model) in enumerate(zip(SFSList, grids)):\n",
    "    \n",
    "    if sfsItem == sfsLR or sfsItem == sfsKNN or sfsItem == sfsSVM or sfsItem == sfsGNB:\n",
    "       \n",
    "        print(f'----- {grid_dict[i]} -----')\n",
    "        \n",
    "        # Get the indices of selected features \n",
    "        selected_feature_indices = list(sfsItem.k_feature_idx_)\n",
    "        \n",
    "        print(f'Best Hyper Parameters -> {model.best_params_}')\n",
    "        print(f'SFS F1 Score -> {sfsItem.k_score_}')\n",
    "        print(f'SFS Feature Names -> {sfsItem.k_feature_names_}')\n",
    "        print(f'Score for Trained Tuned model -> {model.best_score_}\\n') \n",
    "        \n",
    "        # Create a pandas DataFrame with selected features\n",
    "        X_train_selected = X_imputed_train_final.iloc[:, selected_feature_indices]\n",
    "        X_test_selected = X_imputed_test_df.iloc[:, selected_feature_indices]\n",
    "       \n",
    "        # Calculate various metrics\n",
    "        y_pred_train = model.predict(X_train_selected)\n",
    "        y_pred_test = model.predict(X_test_selected)\n",
    "    \n",
    "        f1_train = f1_score(y_train_final, y_pred_train)\n",
    "        normMCC_train = (1 + matthews_corrcoef(y_train_final, y_pred_train)) / 2.\n",
    "        accuracy_train = accuracy_score(y_train_final, y_pred_train)\n",
    "        precision_train = precision_score(y_train_final, y_pred_train)\n",
    "        recall_train = recall_score(y_train_final, y_pred_train)\n",
    "\n",
    "        print(f'Train Data F1 Score -> {f1_train:<30}', f'Confidence Interval (95%) -> {ci95(f1_train, y_train_final.shape[0])}')\n",
    "        print(f'Train Data normMCC -> {normMCC_train:<30}', f'Confidence Interval (95%) -> {ci95(normMCC_train, y_train_final.shape[0])}')\n",
    "        print(f'Train Data Accuracy -> {accuracy_train:<30}', f'Confidence Interval (95%) -> {ci95(accuracy_train, y_train_final.shape[0])}')\n",
    "        print(f'Train Data Precision -> {precision_train:<30}', f'Confidence Interval (95%) -> {ci95(precision_train, y_train_final.shape[0])}')\n",
    "        print(f'Train Data Recall -> {recall_train:<30}', f'Confidence Interval (95%) -> {ci95(recall_train, y_train_final.shape[0])}\\n')\n",
    "        \n",
    "        f1_test = f1_score(labels_test, y_pred_test)\n",
    "        normMCC_test = (1 + matthews_corrcoef(labels_test, y_pred_test)) / 2.\n",
    "        accuracy_test = accuracy_score(labels_test, y_pred_test)\n",
    "        precision_test = precision_score(labels_test, y_pred_test)\n",
    "        recall_test = recall_score(labels_test, y_pred_test)\n",
    "\n",
    "        print(f'Test Data F1 Score -> {f1_test:<30}', f'Confidence Interval (95%) -> {ci95(f1_test, labels_test.shape[0])}')\n",
    "        print(f'Test Data normMCC -> {normMCC_test:<30}', f'Confidence Interval (95%) -> {ci95(normMCC_test, labels_test.shape[0])}')\n",
    "        print(f'Test Data Accuracy -> {accuracy_test:<30}', f'Confidence Interval (95%) -> {ci95(accuracy_test, labels_test.shape[0])}')\n",
    "        print(f'Test Data Precision -> {precision_test:<30}', f'Confidence Interval (95%) -> {ci95(precision_test, labels_test.shape[0])}')\n",
    "        print(f'Test Data Recall -> {recall_test:<30}', f'Confidence Interval (95%) -> {ci95(recall_test, labels_test.shape[0])}\\n')\n",
    "\n",
    "        # Calculate AUC-ROC and AUC-PR scores\n",
    "        fpr_train, tpr_train, _ = roc_curve(y_train_final, model.predict_proba(X_train_selected)[:, 1])\n",
    "        auc_roc_train = auc(fpr_train, tpr_train)\n",
    "\n",
    "        precision_train, recall_train, _ = precision_recall_curve(y_train_final, model.predict_proba(X_train_selected)[:, 1])\n",
    "        auc_pr_train = auc(recall_train, precision_train)\n",
    "\n",
    "        print(f'Train Data AUC-ROC Score -> {auc_roc_train:<30}', f'Confidence Interval (95%) -> {ci95(auc_roc_train, y_train_final.shape[0])}')\n",
    "        print(f'Train Data AUC-PR Score- > {auc_pr_train:<30}', f'Confidence Interval (95%) -> {ci95(auc_pr_train, y_train_final.shape[0])}\\n')\n",
    "        \n",
    "        fpr_test, tpr_test, _ = roc_curve(labels_test, model.predict_proba(X_test_selected)[:, 1])\n",
    "        auc_roc_test = auc(fpr_test, tpr_test)\n",
    "\n",
    "        precision_test, recall_test, _ = precision_recall_curve(labels_test, model.predict_proba(X_test_selected)[:, 1])\n",
    "        auc_pr_test = auc(recall_test, precision_test)\n",
    "\n",
    "        print(f'Test Data AUC-ROC Score -> {auc_roc_test:<30}', f'Confidence Interval (95%) -> {ci95(auc_roc_test, labels_test.shape[0])}')\n",
    "        print(f'Test Data AUC-PR Score- > {auc_pr_test:<30}', f'Confidence Interval (95%) -> {ci95(auc_pr_test, labels_test.shape[0])}')\n",
    "        print('\\n')\n",
    "        \n",
    "    else:\n",
    "        \n",
    "        print(f'----- {grid_dict[i]} -----')\n",
    "        \n",
    "        print(f'Score for Trained Tuned model -> {model.best_score_}\\n') \n",
    "        \n",
    "        # Rename final sets for code consistency\n",
    "        X_train_selected = X_imputed_train_final\n",
    "        X_test_selected = X_imputed_test_df\n",
    "        \n",
    "        # Calculate various metrics\n",
    "        y_pred_train = model.predict(X_train_selected)\n",
    "        y_pred_test = model.predict(X_test_selected)\n",
    "    \n",
    "        f1_train = f1_score(y_train_final, y_pred_train)\n",
    "        normMCC_train = (1 + matthews_corrcoef(y_train_final, y_pred_train)) / 2.\n",
    "        accuracy_train = accuracy_score(y_train_final, y_pred_train)\n",
    "        precision_train = precision_score(y_train_final, y_pred_train)\n",
    "        recall_train = recall_score(y_train_final, y_pred_train)\n",
    "\n",
    "        print(f'Train Data F1 Score -> {f1_train:<30}', f'Confidence Interval (95%) -> {ci95(f1_train, y_train_final.shape[0])}')\n",
    "        print(f'Train Data normMCC -> {normMCC_train:<30}', f'Confidence Interval (95%) -> {ci95(normMCC_train, y_train_final.shape[0])}')\n",
    "        print(f'Train Data Accuracy -> {accuracy_train:<30}', f'Confidence Interval (95%) -> {ci95(accuracy_train, y_train_final.shape[0])}')\n",
    "        print(f'Train Data Precision -> {precision_train:<30}', f'Confidence Interval (95%) -> {ci95(precision_train, y_train_final.shape[0])}')\n",
    "        print(f'Train Data Recall -> {recall_train:<30}', f'Confidence Interval (95%) -> {ci95(recall_train, y_train_final.shape[0])}\\n')\n",
    "        \n",
    "        f1_test = f1_score(labels_test, y_pred_test)\n",
    "        normMCC_test = (1 + matthews_corrcoef(labels_test, y_pred_test)) / 2.\n",
    "        accuracy_test = accuracy_score(labels_test, y_pred_test)\n",
    "        precision_test = precision_score(labels_test, y_pred_test)\n",
    "        recall_test = recall_score(labels_test, y_pred_test)\n",
    "\n",
    "        print(f'Test Data F1 Score -> {f1_test:<30}', f'Confidence Interval (95%) -> {ci95(f1_test, labels_test.shape[0])}')\n",
    "        print(f'Test Data normMCC -> {normMCC_test:<30}', f'Confidence Interval (95%) -> {ci95(normMCC_test, labels_test.shape[0])}')\n",
    "        print(f'Test Data Accuracy -> {accuracy_test:<30}', f'Confidence Interval (95%) -> {ci95(accuracy_test, labels_test.shape[0])}')\n",
    "        print(f'Test Data Precision -> {precision_test:<30}', f'Confidence Interval (95%) -> {ci95(precision_test, labels_test.shape[0])}')\n",
    "        print(f'Test Data Recall -> {recall_test:<30}', f'Confidence Interval (95%) -> {ci95(recall_test, labels_test.shape[0])}\\n')\n",
    "\n",
    "        # Calculate AUC-ROC and AUC-PR scores\n",
    "        fpr_train, tpr_train, _ = roc_curve(y_train_final, model.predict_proba(X_train_selected)[:, 1])\n",
    "        auc_roc_train = auc(fpr_train, tpr_train)\n",
    "\n",
    "        precision_train, recall_train, _ = precision_recall_curve(y_train_final, model.predict_proba(X_train_selected)[:, 1])\n",
    "        auc_pr_train = auc(recall_train, precision_train)\n",
    "\n",
    "        print(f'Train Data AUC-ROC Score -> {auc_roc_train:<30}', f'Confidence Interval (95%) -> {ci95(auc_roc_train, y_train_final.shape[0])}')\n",
    "        print(f'Train Data AUC-PR Score- > {auc_pr_train:<30}', f'Confidence Interval (95%) -> {ci95(auc_pr_train, y_train_final.shape[0])}\\n')\n",
    "        \n",
    "        fpr_test, tpr_test, _ = roc_curve(labels_test, model.predict_proba(X_test_selected)[:, 1])\n",
    "        auc_roc_test = auc(fpr_test, tpr_test)\n",
    "\n",
    "        precision_test, recall_test, _ = precision_recall_curve(labels_test, model.predict_proba(X_test_selected)[:, 1])\n",
    "        auc_pr_test = auc(recall_test, precision_test)\n",
    "\n",
    "        print(f'Test Data AUC-ROC Score -> {auc_roc_test:<30}', f'Confidence Interval (95%) -> {ci95(auc_roc_test, labels_test.shape[0])}')\n",
    "        print(f'Test Data AUC-PR Score- > {auc_pr_test:<30}', f'Confidence Interval (95%) -> {ci95(auc_pr_test, labels_test.shape[0])}')\n",
    "        print('\\n')"
   ]
  },
  {
   "cell_type": "markdown",
   "id": "56420e81-7df2-4dfd-b2e1-fac249f78ed4",
   "metadata": {},
   "source": [
    "# Plot Precision-Recall Curve"
   ]
  },
  {
   "cell_type": "code",
   "execution_count": 43,
   "id": "66ed4c27",
   "metadata": {},
   "outputs": [
    {
     "data": {
      "image/png": "[encoded data removed]",
      "text/plain": [
       "<Figure size 1000x600 with 1 Axes>"
      ]
     },
     "metadata": {},
     "output_type": "display_data"
    }
   ],
   "source": [
    "# Create a list to store the selected features for each model\n",
    "X_test_selected_list = []\n",
    "\n",
    "for i, (sfsItem, model) in enumerate(zip(SFSList, grids)):\n",
    "    \n",
    "    if sfsItem == sfsLR or sfsItem == sfsKNN or sfsItem == sfsSVM or sfsItem == sfsGNB:\n",
    "        # Get the indices of selected features from the current SFS object\n",
    "        selected_feature_indices = list(sfsItem.k_feature_idx_)\n",
    "\n",
    "        # Create a pandas DataFrame with selected features\n",
    "        X_test_selected = X_imputed_test_df.iloc[:, selected_feature_indices]\n",
    "\n",
    "        # Append X_test_selected to the list\n",
    "        X_test_selected_list.append(X_test_selected)\n",
    "    else:\n",
    "        # Rename final set for code consistency\n",
    "        X_test_selected = X_imputed_test_df\n",
    "\n",
    "        # Append X_test_selected to the list\n",
    "        X_test_selected_list.append(X_test_selected)\n",
    "\n",
    "# Calculate the \"No Skill\" line based on your data\n",
    "no_skill = len(labels_test[labels_test == 1]) / len(labels_test)\n",
    "line_styles = ['-', '--', '-.', ':', '-', '--', '-.', ':']\n",
    "\n",
    "# Plot the Precision-Recall curves for all models\n",
    "plt.figure(figsize=(10, 6))\n",
    "for i, (sfsItem, model) in enumerate(zip(SFSList, grids)):\n",
    "    precision, recall, _ = precision_recall_curve(labels_test, model.predict_proba(X_test_selected_list[i])[:, 1])\n",
    "    \n",
    "    # Calculate AUC\n",
    "    auc_pr = auc(recall, precision)\n",
    "    \n",
    "    # Cycle through line styles using modulo operator\n",
    "    linestyle = line_styles[i % len(line_styles)]\n",
    "    \n",
    "    plt.plot(recall, precision, label='Model {} (AUC = {:.2f})'.format(grid_dict[i], auc_pr), linestyle=linestyle)\n",
    "\n",
    "# Plot the \"No Skill\" line\n",
    "plt.plot([0, 1], [no_skill, no_skill], linestyle='--', color='black', label='No Skill')\n",
    "\n",
    "plt.xlabel('Recall', fontsize='x-large')\n",
    "plt.ylabel('Precision', fontsize='x-large',labelpad=10)\n",
    "plt.title('Precision-Recall Curve for All Models', fontsize=15)\n",
    "plt.ylim([0.0, 1.05])\n",
    "plt.xlim([0.0, 1.0])\n",
    "\n",
    "# Plot formatting\n",
    "plt.legend(loc='upper center', bbox_to_anchor=(0.496, -0.15), fancybox=True, shadow=True, ncol=2, fontsize='large')\n",
    "\n",
    "plt.show()"
   ]
  },
  {
   "cell_type": "markdown",
   "id": "6827e5cf-21ed-42cb-81cf-97c40d3eed11",
   "metadata": {},
   "source": [
    "# Plot ROC Curve"
   ]
  },
  {
   "cell_type": "code",
   "execution_count": 44,
   "id": "f54ac174",
   "metadata": {},
   "outputs": [
    {
     "data": {
      "image/png": "[encoded data removed]",
      "text/plain": [
       "<Figure size 1000x600 with 1 Axes>"
      ]
     },
     "metadata": {},
     "output_type": "display_data"
    }
   ],
   "source": [
    "from sklearn.metrics import roc_curve, auc\n",
    "\n",
    "# Create a list to store the selected features for each model\n",
    "X_test_selected_list = []\n",
    "\n",
    "for i, (sfsItem, model) in enumerate(zip(SFSList, grids)):\n",
    "    \n",
    "    if sfsItem == sfsLR or sfsItem == sfsKNN or sfsItem == sfsSVM or sfsItem == sfsGNB:\n",
    "        # Get the indices of selected features from the current SFS object\n",
    "        selected_feature_indices = list(sfsItem.k_feature_idx_)\n",
    "\n",
    "        # Create a pandas DataFrame with selected features\n",
    "        X_test_selected = X_imputed_test_df.iloc[:, selected_feature_indices]\n",
    "\n",
    "        # Append X_test_selected to the list\n",
    "        X_test_selected_list.append(X_test_selected)\n",
    "    else:\n",
    "        # Rename final set for code consistency\n",
    "        X_test_selected = X_imputed_test_df\n",
    "\n",
    "        # Append X_test_selected to the list\n",
    "        X_test_selected_list.append(X_test_selected)\n",
    "\n",
    "# Calculate the \"No Skill\" line based on your data\n",
    "no_skill = len(labels_test[labels_test == 1]) / len(labels_test)\n",
    "line_styles = ['-', '--', '-.', ':', '-', '--', '-.', ':']\n",
    "\n",
    "# Plot the ROC curves for all models\n",
    "plt.figure(figsize=(10, 6))\n",
    "for i, (sfsItem, model) in enumerate(zip(SFSList, grids)):\n",
    "    fpr, tpr, _ = roc_curve(labels_test, model.predict_proba(X_test_selected_list[i])[:, 1])\n",
    "    \n",
    "    # Calculate AUC\n",
    "    roc_auc = auc(fpr, tpr)\n",
    "    \n",
    "    # Cycle through line styles using modulo operator\n",
    "    linestyle = line_styles[i % len(line_styles)]\n",
    "    \n",
    "    plt.plot(fpr, tpr, label='Model {} (AUC = {:.2f})'.format(grid_dict[i], roc_auc), linestyle=linestyle)\n",
    "\n",
    "# Plot the \"No Skill\" line\n",
    "plt.plot([0, 1], [0, 1], linestyle='--', color='black', label='No Skill')\n",
    "\n",
    "plt.xlabel('False Positive Rate', fontsize='x-large')\n",
    "plt.ylabel('True Positive Rate', fontsize='x-large',labelpad=10)\n",
    "plt.title('ROC Curve for All Models', fontsize=15)\n",
    "plt.ylim([0.0, 1.05])\n",
    "plt.xlim([0.0, 1.0])\n",
    "\n",
    "# Plot formatting\n",
    "plt.legend(loc='upper center', bbox_to_anchor=(0.496, -0.15), fancybox=True, shadow=True, ncol=2, fontsize='large')\n",
    "\n",
    "plt.show()"
   ]
  }
 ],
 "metadata": {
  "kernelspec": {
   "display_name": "Python 3 (ipykernel)",
   "language": "python",
   "name": "python3"
  },
  "language_info": {
   "codemirror_mode": {
    "name": "ipython",
    "version": 3
   },
   "file_extension": ".py",
   "mimetype": "text/x-python",
   "name": "python",
   "nbconvert_exporter": "python",
   "pygments_lexer": "ipython3",
   "version": "3.12.4"
  }
 },
 "nbformat": 4,
 "nbformat_minor": 5
}
